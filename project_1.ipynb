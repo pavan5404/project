{
 "cells": [
  {
   "cell_type": "code",
   "execution_count": 1,
   "id": "2e88c1a3-2d3a-460c-bbaf-7a377472edc1",
   "metadata": {},
   "outputs": [
    {
     "name": "stdout",
     "output_type": "stream",
     "text": [
      "<class 'pandas.core.frame.DataFrame'>\n",
      "RangeIndex: 506 entries, 0 to 505\n",
      "Data columns (total 14 columns):\n",
      " #   Column          Non-Null Count  Dtype  \n",
      "---  ------          --------------  -----  \n",
      " 0   PatientId       506 non-null    int64  \n",
      " 1   AppointmentID   506 non-null    int64  \n",
      " 2   Gender          480 non-null    object \n",
      " 3   ScheduledDay    481 non-null    object \n",
      " 4   AppointmentDay  481 non-null    object \n",
      " 5   Age             480 non-null    float64\n",
      " 6   Neighbourhood   481 non-null    object \n",
      " 7   Scholarship     506 non-null    int64  \n",
      " 8   Hypertension    506 non-null    int64  \n",
      " 9   Diabetes        506 non-null    int64  \n",
      " 10  Alcoholism      506 non-null    int64  \n",
      " 11  Handicap        506 non-null    int64  \n",
      " 12  SMS_received    506 non-null    int64  \n",
      " 13  No-show         506 non-null    object \n",
      "dtypes: float64(1), int64(8), object(5)\n",
      "memory usage: 55.5+ KB\n"
     ]
    }
   ],
   "source": [
    "import pandas as pd\n",
    "\n",
    "df = pd.read_csv('C:/Users/DELL/Downloads/project_1dataset.csv')\n",
    "df.info()\n",
    "df.isnull().sum()  # Identify nulls\n",
    "\n",
    "# Example fixes:\n",
    "df['ScheduledDay'] = pd.to_datetime(df['ScheduledDay'])\n",
    "df['AppointmentDay'] = pd.to_datetime(df['AppointmentDay'])\n",
    "df['No-show'] = df['No-show'].map({'Yes': 1, 'No': 0})\n",
    "df.dropna(inplace=True)  # or fillna() depending on strategy\n"
   ]
  },
  {
   "cell_type": "code",
   "execution_count": 13,
   "id": "845d3e39-e15b-4b93-b0f7-f4c63c818fe0",
   "metadata": {},
   "outputs": [],
   "source": [
    "from sklearn.model_selection import train_test_split\n",
    "from sklearn.tree import DecisionTreeClassifier\n",
    "from sklearn.metrics import accuracy_score, confusion_matrix\n",
    "\n",
    "features = ['Age', 'SMS_received', 'Scholarship', 'Hypertension', 'Diabetes']\n",
    "X = df[features]\n",
    "y = df['No-show']\n",
    "\n",
    "X_train, X_test, y_train, y_test = train_test_split(X, y, test_size=0.2, random_state=42)\n",
    "\n",
    "model = DecisionTreeClassifier(max_depth=5)\n",
    "model.fit(X_train, y_train)\n",
    "\n",
    "predictions = model.predict(X_test)\n",
    "accuracy = accuracy_score(y_test, predictions)\n",
    "\n"
   ]
  },
  {
   "cell_type": "code",
   "execution_count": null,
   "id": "a366813c-a732-48a7-9370-ba83bdbf6a57",
   "metadata": {},
   "outputs": [],
   "source": []
  }
 ],
 "metadata": {
  "kernelspec": {
   "display_name": "Python [conda env:base] *",
   "language": "python",
   "name": "conda-base-py"
  },
  "language_info": {
   "codemirror_mode": {
    "name": "ipython",
    "version": 3
   },
   "file_extension": ".py",
   "mimetype": "text/x-python",
   "name": "python",
   "nbconvert_exporter": "python",
   "pygments_lexer": "ipython3",
   "version": "3.12.7"
  }
 },
 "nbformat": 4,
 "nbformat_minor": 5
}
